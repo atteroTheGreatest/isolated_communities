{
 "metadata": {
  "name": "",
  "signature": "sha256:04476f5324744fb69134f4c630ba0ee2cdc0eeebc6b7c07b0506d4ad10d01f56"
 },
 "nbformat": 3,
 "nbformat_minor": 0,
 "worksheets": [
  {
   "cells": [
    {
     "cell_type": "code",
     "collapsed": false,
     "input": [
      "import numpy as np"
     ],
     "language": "python",
     "metadata": {},
     "outputs": [],
     "prompt_number": 1
    },
    {
     "cell_type": "code",
     "collapsed": false,
     "input": [
      "np.random.choice([0, -1, 1])"
     ],
     "language": "python",
     "metadata": {},
     "outputs": [
      {
       "metadata": {},
       "output_type": "pyout",
       "prompt_number": 2,
       "text": [
        "0"
       ]
      }
     ],
     "prompt_number": 2
    },
    {
     "cell_type": "code",
     "collapsed": false,
     "input": [
      "N = 10\n",
      "board = np.zeros((N))\n",
      "for x in range(N):\n",
      "    board[x] = np.random.choice([-1, 1])"
     ],
     "language": "python",
     "metadata": {},
     "outputs": [],
     "prompt_number": 156
    },
    {
     "cell_type": "code",
     "collapsed": false,
     "input": [
      "board"
     ],
     "language": "python",
     "metadata": {},
     "outputs": [
      {
       "metadata": {},
       "output_type": "pyout",
       "prompt_number": 157,
       "text": [
        "array([-1.,  1.,  1.,  1., -1.,  1.,  1., -1., -1.,  1.])"
       ]
      }
     ],
     "prompt_number": 157
    },
    {
     "cell_type": "code",
     "collapsed": false,
     "input": [
      "start_nodes = [(x, y) for x in range(1, N - 1) for y in range(1, N - 1)]"
     ],
     "language": "python",
     "metadata": {},
     "outputs": [],
     "prompt_number": 36
    },
    {
     "cell_type": "code",
     "collapsed": false,
     "input": [
      "start_nodes"
     ],
     "language": "python",
     "metadata": {},
     "outputs": [
      {
       "metadata": {},
       "output_type": "pyout",
       "prompt_number": 37,
       "text": [
        "[(1, 1), (1, 2), (1, 3), (2, 1), (2, 2), (2, 3), (3, 1), (3, 2), (3, 3)]"
       ]
      }
     ],
     "prompt_number": 37
    },
    {
     "cell_type": "code",
     "collapsed": false,
     "input": [
      "node = start_nodes.pop()"
     ],
     "language": "python",
     "metadata": {},
     "outputs": [],
     "prompt_number": 38
    },
    {
     "cell_type": "code",
     "collapsed": false,
     "input": [
      "node"
     ],
     "language": "python",
     "metadata": {},
     "outputs": [
      {
       "metadata": {},
       "output_type": "pyout",
       "prompt_number": 39,
       "text": [
        "(3, 3)"
       ]
      }
     ],
     "prompt_number": 39
    },
    {
     "cell_type": "code",
     "collapsed": false,
     "input": [
      "to_visit = []"
     ],
     "language": "python",
     "metadata": {},
     "outputs": [],
     "prompt_number": 40
    },
    {
     "cell_type": "code",
     "collapsed": false,
     "input": [
      "\n",
      "\n",
      "def in_boundaries(neighbour, N):\n",
      "    for coord in neighbour:\n",
      "        if not (coord >= 0 and coord < N):\n",
      "            return False\n",
      "    return True\n",
      "\n",
      "def create_neighbours(coords):\n",
      "    coords = list(coords)\n",
      "    neighbours = []\n",
      "    for i in range(len(coords)):\n",
      "        for change in (-1, +1):\n",
      "            neighbour = coords[:]\n",
      "            neighbour[i] += change\n",
      "            neighbours.append(tuple(neighbour))\n",
      "    return neighbours\n",
      "\n",
      "\n",
      "def get_from_board(board, coords):\n",
      "    if len(coords) == 2:\n",
      "        return board[coords[0]][coords[1]]\n",
      "    elif len(coords) == 1:\n",
      "        return board[coords[0]]\n",
      "    else:\n",
      "        print('unsupported dimensions')\n",
      "\n",
      "        \n",
      "def find_isolated_clusters(board):\n",
      "    start_nodes = get_indexes_as_tuples(board)\n",
      "\n",
      "    isolated_count = 0\n",
      "    visited = set()\n",
      "    centers = set()\n",
      "    while start_nodes:\n",
      "        first_node = start_nodes.pop()\n",
      "        current_type = get_from_board(board, first_node)\n",
      "        to_visit.append(first_node)\n",
      "        fine = False\n",
      "\n",
      "        while to_visit:\n",
      "            node = to_visit.pop()\n",
      "           \n",
      "            node_type = get_from_board(board, node)\n",
      "            if node_type == 0:\n",
      "                fine = True\n",
      "            elif node_type != current_type:\n",
      "                continue\n",
      "            else:\n",
      "                visited.add(node)\n",
      "                if node in start_nodes:\n",
      "                    start_nodes.remove(node)\n",
      "\n",
      "            neighbour_nodes = create_neighbours(node)\n",
      "            for neighbour in neighbour_nodes:\n",
      "                if in_boundaries(neighbour, N):\n",
      "                    if neighbour not in visited:\n",
      "                        to_visit.append(neighbour)\n",
      "                else:\n",
      "                    fine = True\n",
      "        if not fine:\n",
      "            isolated_count += 1\n",
      "            centers.add(first_node)\n",
      "\n",
      "    print(isolated_count)\n",
      "    print(centers)\n",
      "    return isolated_count, centers\n",
      "\n",
      "find_isolated_clusters(board)"
     ],
     "language": "python",
     "metadata": {},
     "outputs": [
      {
       "output_type": "stream",
       "stream": "stdout",
       "text": [
        "4\n",
        "set([(8,), (3,), (6,), (4,)])\n"
       ]
      },
      {
       "metadata": {},
       "output_type": "pyout",
       "prompt_number": 160,
       "text": [
        "(4, {(3,), (4,), (6,), (8,)})"
       ]
      }
     ],
     "prompt_number": 160
    },
    {
     "cell_type": "code",
     "collapsed": false,
     "input": [
      "create_neighbours((1, 2, 3))"
     ],
     "language": "python",
     "metadata": {},
     "outputs": [
      {
       "metadata": {},
       "output_type": "pyout",
       "prompt_number": 54,
       "text": [
        "[(0, 2, 3), (2, 2, 3), (1, 1, 3), (1, 3, 3), (1, 2, 2), (1, 2, 4)]"
       ]
      }
     ],
     "prompt_number": 54
    },
    {
     "cell_type": "code",
     "collapsed": false,
     "input": [
      "dimensions = 1\n",
      "N = 5\n",
      "base = np.zeros([N for _ in range(dimensions)])"
     ],
     "language": "python",
     "metadata": {},
     "outputs": [],
     "prompt_number": 140
    },
    {
     "cell_type": "code",
     "collapsed": false,
     "input": [
      "def get_indexes(array, coords=None, dimension=None):\n",
      "    if dimension is None:\n",
      "        dimension = len(np.array(array).shape)\n",
      "        \n",
      "    if coords is None:\n",
      "        coords = []\n",
      "        \n",
      "    if dimension == 0:\n",
      "        return [coords]\n",
      "    else:\n",
      "        indexes = []\n",
      "        for i, elem in enumerate(array):\n",
      "            new_coords = coords + [i]\n",
      "            indexes += get_indexes(elem, new_coords, dimension - 1)\n",
      "        return indexes\n",
      "\n",
      "def get_indexes_as_tuples(base):\n",
      "    indexes = get_indexes(base)\n",
      "    return map(lambda x: tuple(x), indexes)\n",
      "\n",
      "\n",
      "def trim_boundaries(indexes, N):\n",
      "    return filter(lambda x: 0 not in x and N - 1 not in x, indexes)\n"
     ],
     "language": "python",
     "metadata": {},
     "outputs": [],
     "prompt_number": 141
    },
    {
     "cell_type": "code",
     "collapsed": false,
     "input": [
      "indexes = get_indexes(base)\n",
      "len(indexes)"
     ],
     "language": "python",
     "metadata": {},
     "outputs": [
      {
       "metadata": {},
       "output_type": "pyout",
       "prompt_number": 143,
       "text": [
        "5"
       ]
      }
     ],
     "prompt_number": 143
    },
    {
     "cell_type": "code",
     "collapsed": false,
     "input": [
      "np.array(indexes).shape"
     ],
     "language": "python",
     "metadata": {},
     "outputs": [
      {
       "metadata": {},
       "output_type": "pyout",
       "prompt_number": 147,
       "text": [
        "(5, 1)"
       ]
      }
     ],
     "prompt_number": 147
    },
    {
     "cell_type": "code",
     "collapsed": false,
     "input": [
      "filter(lambda x: x > 3, (1, 2, 3, 4))"
     ],
     "language": "python",
     "metadata": {},
     "outputs": [
      {
       "metadata": {},
       "output_type": "pyout",
       "prompt_number": 148,
       "text": [
        "(4,)"
       ]
      }
     ],
     "prompt_number": 148
    },
    {
     "cell_type": "code",
     "collapsed": false,
     "input": [
      "np.array(indexes).shape"
     ],
     "language": "python",
     "metadata": {},
     "outputs": [
      {
       "metadata": {},
       "output_type": "pyout",
       "prompt_number": 149,
       "text": [
        "(5, 1)"
       ]
      }
     ],
     "prompt_number": 149
    },
    {
     "cell_type": "code",
     "collapsed": false,
     "input": [
      "(1, 2, 3) + (4, 5, 6)"
     ],
     "language": "python",
     "metadata": {},
     "outputs": [
      {
       "metadata": {},
       "output_type": "pyout",
       "prompt_number": 150,
       "text": [
        "(1, 2, 3, 4, 5, 6)"
       ]
      }
     ],
     "prompt_number": 150
    },
    {
     "cell_type": "code",
     "collapsed": false,
     "input": [
      "[1, 2, 3] + [4, 5, 6]"
     ],
     "language": "python",
     "metadata": {},
     "outputs": [
      {
       "metadata": {},
       "output_type": "pyout",
       "prompt_number": 151,
       "text": [
        "[1, 2, 3, 4, 5, 6]"
       ]
      }
     ],
     "prompt_number": 151
    },
    {
     "cell_type": "code",
     "collapsed": false,
     "input": [],
     "language": "python",
     "metadata": {},
     "outputs": []
    }
   ],
   "metadata": {}
  }
 ]
}